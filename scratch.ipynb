{
 "cells": [
  {
   "cell_type": "code",
   "execution_count": 1,
   "metadata": {
    "collapsed": true
   },
   "outputs": [],
   "source": [
    "import numpy as np\n",
    "import matplotlib.pyplot as plt\n",
    "from matplotlib import rc\n",
    "rc(\"font\", size=20)\n",
    "import daft\n",
    "%matplotlib inline"
   ]
  },
  {
   "cell_type": "code",
   "execution_count": 2,
   "metadata": {},
   "outputs": [
    {
     "data": {
      "image/png": "[encoded data removed]",
      "text/plain": [
       "<matplotlib.figure.Figure at 0x11341e550>"
      ]
     },
     "metadata": {},
     "output_type": "display_data"
    }
   ],
   "source": [
    "pgm = daft.PGM(shape=[2.5, 3.5], origin=[0, 0], grid_unit=4,\n",
    "               label_params={'fontsize':15}, observed_style='shaded')\n",
    "\n",
    "# add nodes\n",
    "pgm.add_node(daft.Node(\"theta_prior\", r\"$p(\\theta)$\", 1, 3, scale=2,\n",
    "                       fixed=True, offset=(30,0)))\n",
    "\n",
    "pgm.add_node(daft.Node(\"theta\", r\"$\\theta$\", 1, 2.40, scale=1.5))\n",
    "\n",
    "pgm.add_node(daft.Node(\"x_prior\", r\"$p(x_i|\\theta)$\", 1, 1.6, scale=1.5, fixed=True, offset=(40, 0)))\n",
    "\n",
    "pgm.add_node(daft.Node(\"x\", r\"$x_i$\", 1, 1, scale=1.5, observed=True))\n",
    "\n",
    "pgm.add_plate(daft.Plate([0.6, 0.4, 1, 1.5], label=r\"$i \\in 1: |D|$\", label_offset=(5, 8)))\n",
    "\n",
    "## add edges\n",
    "pgm.add_edge(\"theta_prior\", \"theta\", directed=False)\n",
    "pgm.add_edge(\"theta\", \"x_prior\", directed=False)\n",
    "pgm.add_edge(\"x_prior\", \"x\", directed=False)\n",
    "\n",
    "pgm.render();\n",
    "plt.savefig(\"media/clutter_problem_factor_graph\", dpi=75)"
   ]
  },
  {
   "cell_type": "code",
   "execution_count": 28,
   "metadata": {},
   "outputs": [
    {
     "data": {
      "image/png": "[encoded data removed]",
      "text/plain": [
       "<matplotlib.figure.Figure at 0x113a05ad0>"
      ]
     },
     "metadata": {},
     "output_type": "display_data"
    }
   ],
   "source": [
    "pgm = daft.PGM(shape=[3.5, 3.5], origin=[0, 0], grid_unit=4,\n",
    "               label_params={'fontsize':15}, observed_style='shaded')\n",
    "\n",
    "## s1\n",
    "pgm.add_node(daft.Node(\"s1_prior\", r\"$p(s_1)$\", 1, 3, scale=2,\n",
    "                       fixed=True, offset=(30,0)))\n",
    "\n",
    "pgm.add_node(daft.Node(\"s1\", r\"$s_1$\", 1, 2.40, scale=1.5))\n",
    "\n",
    "## s2\n",
    "pgm.add_node(daft.Node(\"s2_prior\", r\"$p(s_2)$\", 3, 3, scale=2,\n",
    "                       fixed=True, offset=(30,0)))\n",
    "\n",
    "pgm.add_node(daft.Node(\"s2\", r\"$s_2$\", 3, 2.40, scale=1.5))\n",
    "\n",
    "## greater\n",
    "pgm.add_node(daft.Node(\"greater\", r\"$p(s_1 > s_2)$\", 2, 1.75, scale=2,\n",
    "                       fixed=True, offset=(50,-10)))\n",
    "\n",
    "## outcome\n",
    "pgm.add_node(daft.Node(\"outcome\", r\"$o$\", 2, 1, scale=1.5, observed=True))\n",
    "\n",
    "## add edges\n",
    "pgm.add_edge(\"s1_prior\",\"s1\", directed=False)\n",
    "pgm.add_edge(\"s2_prior\",\"s2\", directed=False)\n",
    "\n",
    "pgm.add_edge(\"s1\",\"greater\", directed=False)\n",
    "pgm.add_edge(\"s2\",\"greater\", directed=False)\n",
    "\n",
    "pgm.add_edge(\"greater\", \"outcome\", directed=False)\n",
    "\n",
    "pgm.render();"
   ]
  },
  {
   "cell_type": "code",
   "execution_count": null,
   "metadata": {
    "collapsed": true
   },
   "outputs": [],
   "source": []
  }
 ],
 "metadata": {
  "kernelspec": {
   "display_name": "Python 2",
   "language": "python",
   "name": "python2"
  },
  "language_info": {
   "codemirror_mode": {
    "name": "ipython",
    "version": 2
   },
   "file_extension": ".py",
   "mimetype": "text/x-python",
   "name": "python",
   "nbconvert_exporter": "python",
   "pygments_lexer": "ipython2",
   "version": "2.7.14"
  }
 },
 "nbformat": 4,
 "nbformat_minor": 2
}
