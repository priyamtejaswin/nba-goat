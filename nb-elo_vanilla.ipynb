{
 "cells": [
  {
   "cell_type": "markdown",
   "metadata": {},
   "source": [
    "# Vanilla elo"
   ]
  },
  {
   "cell_type": "code",
   "execution_count": 1,
   "metadata": {
    "collapsed": true
   },
   "outputs": [],
   "source": [
    "import numpy as np\n",
    "import pandas as pd\n",
    "import matplotlib.pyplot as plt\n",
    "import seaborn as sns\n",
    "%matplotlib inline"
   ]
  },
  {
   "cell_type": "code",
   "execution_count": 19,
   "metadata": {
    "collapsed": true
   },
   "outputs": [],
   "source": [
    "from datetime import datetime, timedelta"
   ]
  },
  {
   "cell_type": "code",
   "execution_count": 4,
   "metadata": {},
   "outputs": [
    {
     "name": "stdout",
     "output_type": "stream",
     "text": [
      "Total rows: 126314\n",
      "Total columns: 23\n"
     ]
    }
   ],
   "source": [
    "## load data\n",
    "raw_data = pd.read_csv(\"/Users/tejaswin.p/Downloads/data_nbaallelo.csv\", )\n",
    "print \"Total rows:\", len(raw_data)\n",
    "print \"Total columns:\", len(raw_data.columns)"
   ]
  },
  {
   "cell_type": "code",
   "execution_count": 5,
   "metadata": {},
   "outputs": [
    {
     "data": {
      "text/plain": [
       "Index([u'gameorder', u'game_id', u'lg_id', u'_iscopy', u'year_id',\n",
       "       u'date_game', u'seasongame', u'is_playoffs', u'team_id', u'fran_id',\n",
       "       u'pts', u'elo_i', u'elo_n', u'win_equiv', u'opp_id', u'opp_fran',\n",
       "       u'opp_pts', u'opp_elo_i', u'opp_elo_n', u'game_location',\n",
       "       u'game_result', u'forecast', u'notes'],\n",
       "      dtype='object')"
      ]
     },
     "execution_count": 5,
     "metadata": {},
     "output_type": "execute_result"
    }
   ],
   "source": [
    "raw_data.columns"
   ]
  },
  {
   "cell_type": "code",
   "execution_count": 10,
   "metadata": {},
   "outputs": [],
   "source": [
    "df_data = raw_data[[u'gameorder', u'game_id', u'lg_id', u'_iscopy', u'year_id',\n",
    "       u'date_game', u'seasongame', u'is_playoffs', u'team_id', u'fran_id',\n",
    "       u'pts', u'opp_id', u'opp_fran',\n",
    "       u'opp_pts', u'game_location',\n",
    "       u'game_result']][raw_data._iscopy==0].copy()"
   ]
  },
  {
   "cell_type": "code",
   "execution_count": 11,
   "metadata": {},
   "outputs": [
    {
     "name": "stdout",
     "output_type": "stream",
     "text": [
      "Data: (63157, 16)\n"
     ]
    }
   ],
   "source": [
    "print \"Data:\", df_data.shape"
   ]
  },
  {
   "cell_type": "code",
   "execution_count": 24,
   "metadata": {},
   "outputs": [
    {
     "data": {
      "text/plain": [
       "0     11/1/1946\n",
       "2     11/2/1946\n",
       "4     11/2/1946\n",
       "7     11/2/1946\n",
       "9     11/2/1946\n",
       "11    11/3/1946\n",
       "12    11/4/1946\n",
       "14    11/5/1946\n",
       "17    11/5/1946\n",
       "19    11/7/1946\n",
       "Name: date_game, dtype: object"
      ]
     },
     "execution_count": 24,
     "metadata": {},
     "output_type": "execute_result"
    }
   ],
   "source": [
    "df_data.date_game.head(10)"
   ]
  },
  {
   "cell_type": "code",
   "execution_count": 25,
   "metadata": {},
   "outputs": [],
   "source": [
    "_d = \"11/1/1946\"\n",
    "def string_to_datetime(dstring):\n",
    "    m, d, y = dstring.strip().split('/')\n",
    "    return datetime(int(y), int(m), int(d))"
   ]
  },
  {
   "cell_type": "code",
   "execution_count": 26,
   "metadata": {},
   "outputs": [
    {
     "data": {
      "text/html": [
       "<div>\n",
       "<style>\n",
       "    .dataframe thead tr:only-child th {\n",
       "        text-align: right;\n",
       "    }\n",
       "\n",
       "    .dataframe thead th {\n",
       "        text-align: left;\n",
       "    }\n",
       "\n",
       "    .dataframe tbody tr th {\n",
       "        vertical-align: top;\n",
       "    }\n",
       "</style>\n",
       "<table border=\"1\" class=\"dataframe\">\n",
       "  <thead>\n",
       "    <tr style=\"text-align: right;\">\n",
       "      <th></th>\n",
       "      <th>gameorder</th>\n",
       "      <th>game_id</th>\n",
       "      <th>lg_id</th>\n",
       "      <th>_iscopy</th>\n",
       "      <th>year_id</th>\n",
       "      <th>date_game</th>\n",
       "      <th>seasongame</th>\n",
       "      <th>is_playoffs</th>\n",
       "      <th>team_id</th>\n",
       "      <th>fran_id</th>\n",
       "      <th>pts</th>\n",
       "      <th>opp_id</th>\n",
       "      <th>opp_fran</th>\n",
       "      <th>opp_pts</th>\n",
       "      <th>game_location</th>\n",
       "      <th>game_result</th>\n",
       "      <th>game_datetime</th>\n",
       "    </tr>\n",
       "  </thead>\n",
       "  <tbody>\n",
       "    <tr>\n",
       "      <th>0</th>\n",
       "      <td>1</td>\n",
       "      <td>194611010TRH</td>\n",
       "      <td>NBA</td>\n",
       "      <td>0</td>\n",
       "      <td>1947</td>\n",
       "      <td>11/1/1946</td>\n",
       "      <td>1</td>\n",
       "      <td>0</td>\n",
       "      <td>TRH</td>\n",
       "      <td>Huskies</td>\n",
       "      <td>66</td>\n",
       "      <td>NYK</td>\n",
       "      <td>Knicks</td>\n",
       "      <td>68</td>\n",
       "      <td>H</td>\n",
       "      <td>L</td>\n",
       "      <td>1946-11-01</td>\n",
       "    </tr>\n",
       "    <tr>\n",
       "      <th>2</th>\n",
       "      <td>2</td>\n",
       "      <td>194611020CHS</td>\n",
       "      <td>NBA</td>\n",
       "      <td>0</td>\n",
       "      <td>1947</td>\n",
       "      <td>11/2/1946</td>\n",
       "      <td>1</td>\n",
       "      <td>0</td>\n",
       "      <td>CHS</td>\n",
       "      <td>Stags</td>\n",
       "      <td>63</td>\n",
       "      <td>NYK</td>\n",
       "      <td>Knicks</td>\n",
       "      <td>47</td>\n",
       "      <td>H</td>\n",
       "      <td>W</td>\n",
       "      <td>1946-11-02</td>\n",
       "    </tr>\n",
       "    <tr>\n",
       "      <th>4</th>\n",
       "      <td>3</td>\n",
       "      <td>194611020DTF</td>\n",
       "      <td>NBA</td>\n",
       "      <td>0</td>\n",
       "      <td>1947</td>\n",
       "      <td>11/2/1946</td>\n",
       "      <td>1</td>\n",
       "      <td>0</td>\n",
       "      <td>DTF</td>\n",
       "      <td>Falcons</td>\n",
       "      <td>33</td>\n",
       "      <td>WSC</td>\n",
       "      <td>Capitols</td>\n",
       "      <td>50</td>\n",
       "      <td>H</td>\n",
       "      <td>L</td>\n",
       "      <td>1946-11-02</td>\n",
       "    </tr>\n",
       "    <tr>\n",
       "      <th>7</th>\n",
       "      <td>4</td>\n",
       "      <td>194611020PRO</td>\n",
       "      <td>NBA</td>\n",
       "      <td>0</td>\n",
       "      <td>1947</td>\n",
       "      <td>11/2/1946</td>\n",
       "      <td>1</td>\n",
       "      <td>0</td>\n",
       "      <td>PRO</td>\n",
       "      <td>Steamrollers</td>\n",
       "      <td>59</td>\n",
       "      <td>BOS</td>\n",
       "      <td>Celtics</td>\n",
       "      <td>53</td>\n",
       "      <td>H</td>\n",
       "      <td>W</td>\n",
       "      <td>1946-11-02</td>\n",
       "    </tr>\n",
       "    <tr>\n",
       "      <th>9</th>\n",
       "      <td>5</td>\n",
       "      <td>194611020STB</td>\n",
       "      <td>NBA</td>\n",
       "      <td>0</td>\n",
       "      <td>1947</td>\n",
       "      <td>11/2/1946</td>\n",
       "      <td>1</td>\n",
       "      <td>0</td>\n",
       "      <td>STB</td>\n",
       "      <td>Bombers</td>\n",
       "      <td>56</td>\n",
       "      <td>PIT</td>\n",
       "      <td>Ironmen</td>\n",
       "      <td>51</td>\n",
       "      <td>H</td>\n",
       "      <td>W</td>\n",
       "      <td>1946-11-02</td>\n",
       "    </tr>\n",
       "  </tbody>\n",
       "</table>\n",
       "</div>"
      ],
      "text/plain": [
       "   gameorder       game_id lg_id  _iscopy  year_id  date_game  seasongame  \\\n",
       "0          1  194611010TRH   NBA        0     1947  11/1/1946           1   \n",
       "2          2  194611020CHS   NBA        0     1947  11/2/1946           1   \n",
       "4          3  194611020DTF   NBA        0     1947  11/2/1946           1   \n",
       "7          4  194611020PRO   NBA        0     1947  11/2/1946           1   \n",
       "9          5  194611020STB   NBA        0     1947  11/2/1946           1   \n",
       "\n",
       "   is_playoffs team_id       fran_id  pts opp_id  opp_fran  opp_pts  \\\n",
       "0            0     TRH       Huskies   66    NYK    Knicks       68   \n",
       "2            0     CHS         Stags   63    NYK    Knicks       47   \n",
       "4            0     DTF       Falcons   33    WSC  Capitols       50   \n",
       "7            0     PRO  Steamrollers   59    BOS   Celtics       53   \n",
       "9            0     STB       Bombers   56    PIT   Ironmen       51   \n",
       "\n",
       "  game_location game_result game_datetime  \n",
       "0             H           L    1946-11-01  \n",
       "2             H           W    1946-11-02  \n",
       "4             H           L    1946-11-02  \n",
       "7             H           W    1946-11-02  \n",
       "9             H           W    1946-11-02  "
      ]
     },
     "execution_count": 26,
     "metadata": {},
     "output_type": "execute_result"
    }
   ],
   "source": [
    "df_data[\"game_datetime\"] = df_data.date_game.map(string_to_datetime)"
   ]
  },
  {
   "cell_type": "markdown",
   "metadata": {},
   "source": [
    "### Tracking the franchises through time."
   ]
  },
  {
   "cell_type": "code",
   "execution_count": 33,
   "metadata": {},
   "outputs": [
    {
     "data": {
      "text/html": [
       "<div>\n",
       "<style>\n",
       "    .dataframe thead tr:only-child th {\n",
       "        text-align: right;\n",
       "    }\n",
       "\n",
       "    .dataframe thead th {\n",
       "        text-align: left;\n",
       "    }\n",
       "\n",
       "    .dataframe tbody tr th {\n",
       "        vertical-align: top;\n",
       "    }\n",
       "</style>\n",
       "<table border=\"1\" class=\"dataframe\">\n",
       "  <thead>\n",
       "    <tr style=\"text-align: right;\">\n",
       "      <th></th>\n",
       "      <th>lg_id</th>\n",
       "      <th>team_id</th>\n",
       "      <th>fran_id</th>\n",
       "      <th>year_id</th>\n",
       "    </tr>\n",
       "  </thead>\n",
       "  <tbody>\n",
       "    <tr>\n",
       "      <th>702</th>\n",
       "      <td>NBA</td>\n",
       "      <td>BLB</td>\n",
       "      <td>Baltimore</td>\n",
       "      <td>1948</td>\n",
       "    </tr>\n",
       "    <tr>\n",
       "      <th>1137</th>\n",
       "      <td>NBA</td>\n",
       "      <td>BLB</td>\n",
       "      <td>Baltimore</td>\n",
       "      <td>1949</td>\n",
       "    </tr>\n",
       "    <tr>\n",
       "      <th>1909</th>\n",
       "      <td>NBA</td>\n",
       "      <td>BLB</td>\n",
       "      <td>Baltimore</td>\n",
       "      <td>1950</td>\n",
       "    </tr>\n",
       "    <tr>\n",
       "      <th>3079</th>\n",
       "      <td>NBA</td>\n",
       "      <td>BLB</td>\n",
       "      <td>Baltimore</td>\n",
       "      <td>1951</td>\n",
       "    </tr>\n",
       "    <tr>\n",
       "      <th>3841</th>\n",
       "      <td>NBA</td>\n",
       "      <td>BLB</td>\n",
       "      <td>Baltimore</td>\n",
       "      <td>1952</td>\n",
       "    </tr>\n",
       "    <tr>\n",
       "      <th>4562</th>\n",
       "      <td>NBA</td>\n",
       "      <td>BLB</td>\n",
       "      <td>Baltimore</td>\n",
       "      <td>1953</td>\n",
       "    </tr>\n",
       "    <tr>\n",
       "      <th>5296</th>\n",
       "      <td>NBA</td>\n",
       "      <td>BLB</td>\n",
       "      <td>Baltimore</td>\n",
       "      <td>1954</td>\n",
       "    </tr>\n",
       "    <tr>\n",
       "      <th>9</th>\n",
       "      <td>NBA</td>\n",
       "      <td>STB</td>\n",
       "      <td>Bombers</td>\n",
       "      <td>1947</td>\n",
       "    </tr>\n",
       "    <tr>\n",
       "      <th>734</th>\n",
       "      <td>NBA</td>\n",
       "      <td>STB</td>\n",
       "      <td>Bombers</td>\n",
       "      <td>1948</td>\n",
       "    </tr>\n",
       "    <tr>\n",
       "      <th>1151</th>\n",
       "      <td>NBA</td>\n",
       "      <td>STB</td>\n",
       "      <td>Bombers</td>\n",
       "      <td>1949</td>\n",
       "    </tr>\n",
       "  </tbody>\n",
       "</table>\n",
       "</div>"
      ],
      "text/plain": [
       "     lg_id team_id    fran_id  year_id\n",
       "702    NBA     BLB  Baltimore     1948\n",
       "1137   NBA     BLB  Baltimore     1949\n",
       "1909   NBA     BLB  Baltimore     1950\n",
       "3079   NBA     BLB  Baltimore     1951\n",
       "3841   NBA     BLB  Baltimore     1952\n",
       "4562   NBA     BLB  Baltimore     1953\n",
       "5296   NBA     BLB  Baltimore     1954\n",
       "9      NBA     STB    Bombers     1947\n",
       "734    NBA     STB    Bombers     1948\n",
       "1151   NBA     STB    Bombers     1949"
      ]
     },
     "execution_count": 33,
     "metadata": {},
     "output_type": "execute_result"
    }
   ],
   "source": [
    "df_data[[\"lg_id\", \"team_id\", \"fran_id\", \"year_id\"]].drop_duplicates().sort_values([\"fran_id\", \"year_id\"]).head(10)"
   ]
  },
  {
   "cell_type": "code",
   "execution_count": null,
   "metadata": {
    "collapsed": true
   },
   "outputs": [],
   "source": []
  }
 ],
 "metadata": {
  "kernelspec": {
   "display_name": "Python 2",
   "language": "python",
   "name": "python2"
  },
  "language_info": {
   "codemirror_mode": {
    "name": "ipython",
    "version": 2
   },
   "file_extension": ".py",
   "mimetype": "text/x-python",
   "name": "python",
   "nbconvert_exporter": "python",
   "pygments_lexer": "ipython2",
   "version": "2.7.14"
  }
 },
 "nbformat": 4,
 "nbformat_minor": 2
}
